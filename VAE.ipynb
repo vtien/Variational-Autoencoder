{
  "nbformat": 4,
  "nbformat_minor": 0,
  "metadata": {
    "colab": {
      "name": "vtien_hw5_problem2.ipynb",
      "provenance": [],
      "collapsed_sections": []
    },
    "kernelspec": {
      "name": "python3",
      "display_name": "Python 3"
    },
    "widgets": {
      "application/vnd.jupyter.widget-state+json": {
        "881c54957465447bbec6dc1338a05315": {
          "model_module": "@jupyter-widgets/controls",
          "model_name": "HBoxModel",
          "state": {
            "_view_name": "HBoxView",
            "_dom_classes": [],
            "_model_name": "HBoxModel",
            "_view_module": "@jupyter-widgets/controls",
            "_model_module_version": "1.5.0",
            "_view_count": null,
            "_view_module_version": "1.5.0",
            "box_style": "",
            "layout": "IPY_MODEL_1f2f0bd5f05b4020831e566080cdd70b",
            "_model_module": "@jupyter-widgets/controls",
            "children": [
              "IPY_MODEL_d0a70b5c1a9f4ce68adf5d608f94f5af",
              "IPY_MODEL_2b9f14a893b540a39b9404d905eda57e"
            ]
          }
        },
        "1f2f0bd5f05b4020831e566080cdd70b": {
          "model_module": "@jupyter-widgets/base",
          "model_name": "LayoutModel",
          "state": {
            "_view_name": "LayoutView",
            "grid_template_rows": null,
            "right": null,
            "justify_content": null,
            "_view_module": "@jupyter-widgets/base",
            "overflow": null,
            "_model_module_version": "1.2.0",
            "_view_count": null,
            "flex_flow": null,
            "width": null,
            "min_width": null,
            "border": null,
            "align_items": null,
            "bottom": null,
            "_model_module": "@jupyter-widgets/base",
            "top": null,
            "grid_column": null,
            "overflow_y": null,
            "overflow_x": null,
            "grid_auto_flow": null,
            "grid_area": null,
            "grid_template_columns": null,
            "flex": null,
            "_model_name": "LayoutModel",
            "justify_items": null,
            "grid_row": null,
            "max_height": null,
            "align_content": null,
            "visibility": null,
            "align_self": null,
            "height": null,
            "min_height": null,
            "padding": null,
            "grid_auto_rows": null,
            "grid_gap": null,
            "max_width": null,
            "order": null,
            "_view_module_version": "1.2.0",
            "grid_template_areas": null,
            "object_position": null,
            "object_fit": null,
            "grid_auto_columns": null,
            "margin": null,
            "display": null,
            "left": null
          }
        },
        "d0a70b5c1a9f4ce68adf5d608f94f5af": {
          "model_module": "@jupyter-widgets/controls",
          "model_name": "FloatProgressModel",
          "state": {
            "_view_name": "ProgressView",
            "style": "IPY_MODEL_828cbe1c97ad457b9b17b1a0ba969a5e",
            "_dom_classes": [],
            "description": "",
            "_model_name": "FloatProgressModel",
            "bar_style": "success",
            "max": 1,
            "_view_module": "@jupyter-widgets/controls",
            "_model_module_version": "1.5.0",
            "value": 1,
            "_view_count": null,
            "_view_module_version": "1.5.0",
            "orientation": "horizontal",
            "min": 0,
            "description_tooltip": null,
            "_model_module": "@jupyter-widgets/controls",
            "layout": "IPY_MODEL_92f8e3e703cb4ab093b5a451e6964608"
          }
        },
        "2b9f14a893b540a39b9404d905eda57e": {
          "model_module": "@jupyter-widgets/controls",
          "model_name": "HTMLModel",
          "state": {
            "_view_name": "HTMLView",
            "style": "IPY_MODEL_fb421ff73b3447278d9334c8fcb8bed6",
            "_dom_classes": [],
            "description": "",
            "_model_name": "HTMLModel",
            "placeholder": "​",
            "_view_module": "@jupyter-widgets/controls",
            "_model_module_version": "1.5.0",
            "value": " 9920512/? [00:09&lt;00:00, 1069164.44it/s]",
            "_view_count": null,
            "_view_module_version": "1.5.0",
            "description_tooltip": null,
            "_model_module": "@jupyter-widgets/controls",
            "layout": "IPY_MODEL_303a94fcaee74f69b8de6efad4f3a3ea"
          }
        },
        "828cbe1c97ad457b9b17b1a0ba969a5e": {
          "model_module": "@jupyter-widgets/controls",
          "model_name": "ProgressStyleModel",
          "state": {
            "_view_name": "StyleView",
            "_model_name": "ProgressStyleModel",
            "description_width": "initial",
            "_view_module": "@jupyter-widgets/base",
            "_model_module_version": "1.5.0",
            "_view_count": null,
            "_view_module_version": "1.2.0",
            "bar_color": null,
            "_model_module": "@jupyter-widgets/controls"
          }
        },
        "92f8e3e703cb4ab093b5a451e6964608": {
          "model_module": "@jupyter-widgets/base",
          "model_name": "LayoutModel",
          "state": {
            "_view_name": "LayoutView",
            "grid_template_rows": null,
            "right": null,
            "justify_content": null,
            "_view_module": "@jupyter-widgets/base",
            "overflow": null,
            "_model_module_version": "1.2.0",
            "_view_count": null,
            "flex_flow": null,
            "width": null,
            "min_width": null,
            "border": null,
            "align_items": null,
            "bottom": null,
            "_model_module": "@jupyter-widgets/base",
            "top": null,
            "grid_column": null,
            "overflow_y": null,
            "overflow_x": null,
            "grid_auto_flow": null,
            "grid_area": null,
            "grid_template_columns": null,
            "flex": null,
            "_model_name": "LayoutModel",
            "justify_items": null,
            "grid_row": null,
            "max_height": null,
            "align_content": null,
            "visibility": null,
            "align_self": null,
            "height": null,
            "min_height": null,
            "padding": null,
            "grid_auto_rows": null,
            "grid_gap": null,
            "max_width": null,
            "order": null,
            "_view_module_version": "1.2.0",
            "grid_template_areas": null,
            "object_position": null,
            "object_fit": null,
            "grid_auto_columns": null,
            "margin": null,
            "display": null,
            "left": null
          }
        },
        "fb421ff73b3447278d9334c8fcb8bed6": {
          "model_module": "@jupyter-widgets/controls",
          "model_name": "DescriptionStyleModel",
          "state": {
            "_view_name": "StyleView",
            "_model_name": "DescriptionStyleModel",
            "description_width": "",
            "_view_module": "@jupyter-widgets/base",
            "_model_module_version": "1.5.0",
            "_view_count": null,
            "_view_module_version": "1.2.0",
            "_model_module": "@jupyter-widgets/controls"
          }
        },
        "303a94fcaee74f69b8de6efad4f3a3ea": {
          "model_module": "@jupyter-widgets/base",
          "model_name": "LayoutModel",
          "state": {
            "_view_name": "LayoutView",
            "grid_template_rows": null,
            "right": null,
            "justify_content": null,
            "_view_module": "@jupyter-widgets/base",
            "overflow": null,
            "_model_module_version": "1.2.0",
            "_view_count": null,
            "flex_flow": null,
            "width": null,
            "min_width": null,
            "border": null,
            "align_items": null,
            "bottom": null,
            "_model_module": "@jupyter-widgets/base",
            "top": null,
            "grid_column": null,
            "overflow_y": null,
            "overflow_x": null,
            "grid_auto_flow": null,
            "grid_area": null,
            "grid_template_columns": null,
            "flex": null,
            "_model_name": "LayoutModel",
            "justify_items": null,
            "grid_row": null,
            "max_height": null,
            "align_content": null,
            "visibility": null,
            "align_self": null,
            "height": null,
            "min_height": null,
            "padding": null,
            "grid_auto_rows": null,
            "grid_gap": null,
            "max_width": null,
            "order": null,
            "_view_module_version": "1.2.0",
            "grid_template_areas": null,
            "object_position": null,
            "object_fit": null,
            "grid_auto_columns": null,
            "margin": null,
            "display": null,
            "left": null
          }
        },
        "73f96858114c4241b374ee4b2aaa0728": {
          "model_module": "@jupyter-widgets/controls",
          "model_name": "HBoxModel",
          "state": {
            "_view_name": "HBoxView",
            "_dom_classes": [],
            "_model_name": "HBoxModel",
            "_view_module": "@jupyter-widgets/controls",
            "_model_module_version": "1.5.0",
            "_view_count": null,
            "_view_module_version": "1.5.0",
            "box_style": "",
            "layout": "IPY_MODEL_74dd50ba72de4cc6a3148ab54b1dc411",
            "_model_module": "@jupyter-widgets/controls",
            "children": [
              "IPY_MODEL_c04c68cc88384b6cb9268b53e4dc167d",
              "IPY_MODEL_0643d977030046dab133f6153de112c0"
            ]
          }
        },
        "74dd50ba72de4cc6a3148ab54b1dc411": {
          "model_module": "@jupyter-widgets/base",
          "model_name": "LayoutModel",
          "state": {
            "_view_name": "LayoutView",
            "grid_template_rows": null,
            "right": null,
            "justify_content": null,
            "_view_module": "@jupyter-widgets/base",
            "overflow": null,
            "_model_module_version": "1.2.0",
            "_view_count": null,
            "flex_flow": null,
            "width": null,
            "min_width": null,
            "border": null,
            "align_items": null,
            "bottom": null,
            "_model_module": "@jupyter-widgets/base",
            "top": null,
            "grid_column": null,
            "overflow_y": null,
            "overflow_x": null,
            "grid_auto_flow": null,
            "grid_area": null,
            "grid_template_columns": null,
            "flex": null,
            "_model_name": "LayoutModel",
            "justify_items": null,
            "grid_row": null,
            "max_height": null,
            "align_content": null,
            "visibility": null,
            "align_self": null,
            "height": null,
            "min_height": null,
            "padding": null,
            "grid_auto_rows": null,
            "grid_gap": null,
            "max_width": null,
            "order": null,
            "_view_module_version": "1.2.0",
            "grid_template_areas": null,
            "object_position": null,
            "object_fit": null,
            "grid_auto_columns": null,
            "margin": null,
            "display": null,
            "left": null
          }
        },
        "c04c68cc88384b6cb9268b53e4dc167d": {
          "model_module": "@jupyter-widgets/controls",
          "model_name": "FloatProgressModel",
          "state": {
            "_view_name": "ProgressView",
            "style": "IPY_MODEL_7365d745d47e4b64ac2e21da0b6711cf",
            "_dom_classes": [],
            "description": "",
            "_model_name": "FloatProgressModel",
            "bar_style": "success",
            "max": 1,
            "_view_module": "@jupyter-widgets/controls",
            "_model_module_version": "1.5.0",
            "value": 1,
            "_view_count": null,
            "_view_module_version": "1.5.0",
            "orientation": "horizontal",
            "min": 0,
            "description_tooltip": null,
            "_model_module": "@jupyter-widgets/controls",
            "layout": "IPY_MODEL_5155a317d2944e7fa3fd72710eba4b99"
          }
        },
        "0643d977030046dab133f6153de112c0": {
          "model_module": "@jupyter-widgets/controls",
          "model_name": "HTMLModel",
          "state": {
            "_view_name": "HTMLView",
            "style": "IPY_MODEL_30926ae5a828486bbbffbfdb176ae037",
            "_dom_classes": [],
            "description": "",
            "_model_name": "HTMLModel",
            "placeholder": "​",
            "_view_module": "@jupyter-widgets/controls",
            "_model_module_version": "1.5.0",
            "value": " 32768/? [00:02&lt;00:00, 12219.07it/s]",
            "_view_count": null,
            "_view_module_version": "1.5.0",
            "description_tooltip": null,
            "_model_module": "@jupyter-widgets/controls",
            "layout": "IPY_MODEL_b3503945d7c04612a622f9294791ea97"
          }
        },
        "7365d745d47e4b64ac2e21da0b6711cf": {
          "model_module": "@jupyter-widgets/controls",
          "model_name": "ProgressStyleModel",
          "state": {
            "_view_name": "StyleView",
            "_model_name": "ProgressStyleModel",
            "description_width": "initial",
            "_view_module": "@jupyter-widgets/base",
            "_model_module_version": "1.5.0",
            "_view_count": null,
            "_view_module_version": "1.2.0",
            "bar_color": null,
            "_model_module": "@jupyter-widgets/controls"
          }
        },
        "5155a317d2944e7fa3fd72710eba4b99": {
          "model_module": "@jupyter-widgets/base",
          "model_name": "LayoutModel",
          "state": {
            "_view_name": "LayoutView",
            "grid_template_rows": null,
            "right": null,
            "justify_content": null,
            "_view_module": "@jupyter-widgets/base",
            "overflow": null,
            "_model_module_version": "1.2.0",
            "_view_count": null,
            "flex_flow": null,
            "width": null,
            "min_width": null,
            "border": null,
            "align_items": null,
            "bottom": null,
            "_model_module": "@jupyter-widgets/base",
            "top": null,
            "grid_column": null,
            "overflow_y": null,
            "overflow_x": null,
            "grid_auto_flow": null,
            "grid_area": null,
            "grid_template_columns": null,
            "flex": null,
            "_model_name": "LayoutModel",
            "justify_items": null,
            "grid_row": null,
            "max_height": null,
            "align_content": null,
            "visibility": null,
            "align_self": null,
            "height": null,
            "min_height": null,
            "padding": null,
            "grid_auto_rows": null,
            "grid_gap": null,
            "max_width": null,
            "order": null,
            "_view_module_version": "1.2.0",
            "grid_template_areas": null,
            "object_position": null,
            "object_fit": null,
            "grid_auto_columns": null,
            "margin": null,
            "display": null,
            "left": null
          }
        },
        "30926ae5a828486bbbffbfdb176ae037": {
          "model_module": "@jupyter-widgets/controls",
          "model_name": "DescriptionStyleModel",
          "state": {
            "_view_name": "StyleView",
            "_model_name": "DescriptionStyleModel",
            "description_width": "",
            "_view_module": "@jupyter-widgets/base",
            "_model_module_version": "1.5.0",
            "_view_count": null,
            "_view_module_version": "1.2.0",
            "_model_module": "@jupyter-widgets/controls"
          }
        },
        "b3503945d7c04612a622f9294791ea97": {
          "model_module": "@jupyter-widgets/base",
          "model_name": "LayoutModel",
          "state": {
            "_view_name": "LayoutView",
            "grid_template_rows": null,
            "right": null,
            "justify_content": null,
            "_view_module": "@jupyter-widgets/base",
            "overflow": null,
            "_model_module_version": "1.2.0",
            "_view_count": null,
            "flex_flow": null,
            "width": null,
            "min_width": null,
            "border": null,
            "align_items": null,
            "bottom": null,
            "_model_module": "@jupyter-widgets/base",
            "top": null,
            "grid_column": null,
            "overflow_y": null,
            "overflow_x": null,
            "grid_auto_flow": null,
            "grid_area": null,
            "grid_template_columns": null,
            "flex": null,
            "_model_name": "LayoutModel",
            "justify_items": null,
            "grid_row": null,
            "max_height": null,
            "align_content": null,
            "visibility": null,
            "align_self": null,
            "height": null,
            "min_height": null,
            "padding": null,
            "grid_auto_rows": null,
            "grid_gap": null,
            "max_width": null,
            "order": null,
            "_view_module_version": "1.2.0",
            "grid_template_areas": null,
            "object_position": null,
            "object_fit": null,
            "grid_auto_columns": null,
            "margin": null,
            "display": null,
            "left": null
          }
        },
        "c73766ebc7c34599963ecc582ab39e41": {
          "model_module": "@jupyter-widgets/controls",
          "model_name": "HBoxModel",
          "state": {
            "_view_name": "HBoxView",
            "_dom_classes": [],
            "_model_name": "HBoxModel",
            "_view_module": "@jupyter-widgets/controls",
            "_model_module_version": "1.5.0",
            "_view_count": null,
            "_view_module_version": "1.5.0",
            "box_style": "",
            "layout": "IPY_MODEL_bab55617f582472191b3e3eb3907658b",
            "_model_module": "@jupyter-widgets/controls",
            "children": [
              "IPY_MODEL_a67c5c8c944049d5b5f4fb36544d3bdd",
              "IPY_MODEL_cfc32cd31487413491f94744a6a9df78"
            ]
          }
        },
        "bab55617f582472191b3e3eb3907658b": {
          "model_module": "@jupyter-widgets/base",
          "model_name": "LayoutModel",
          "state": {
            "_view_name": "LayoutView",
            "grid_template_rows": null,
            "right": null,
            "justify_content": null,
            "_view_module": "@jupyter-widgets/base",
            "overflow": null,
            "_model_module_version": "1.2.0",
            "_view_count": null,
            "flex_flow": null,
            "width": null,
            "min_width": null,
            "border": null,
            "align_items": null,
            "bottom": null,
            "_model_module": "@jupyter-widgets/base",
            "top": null,
            "grid_column": null,
            "overflow_y": null,
            "overflow_x": null,
            "grid_auto_flow": null,
            "grid_area": null,
            "grid_template_columns": null,
            "flex": null,
            "_model_name": "LayoutModel",
            "justify_items": null,
            "grid_row": null,
            "max_height": null,
            "align_content": null,
            "visibility": null,
            "align_self": null,
            "height": null,
            "min_height": null,
            "padding": null,
            "grid_auto_rows": null,
            "grid_gap": null,
            "max_width": null,
            "order": null,
            "_view_module_version": "1.2.0",
            "grid_template_areas": null,
            "object_position": null,
            "object_fit": null,
            "grid_auto_columns": null,
            "margin": null,
            "display": null,
            "left": null
          }
        },
        "a67c5c8c944049d5b5f4fb36544d3bdd": {
          "model_module": "@jupyter-widgets/controls",
          "model_name": "FloatProgressModel",
          "state": {
            "_view_name": "ProgressView",
            "style": "IPY_MODEL_203f791c713941ae97c35bb27b58ed06",
            "_dom_classes": [],
            "description": "",
            "_model_name": "FloatProgressModel",
            "bar_style": "success",
            "max": 1,
            "_view_module": "@jupyter-widgets/controls",
            "_model_module_version": "1.5.0",
            "value": 1,
            "_view_count": null,
            "_view_module_version": "1.5.0",
            "orientation": "horizontal",
            "min": 0,
            "description_tooltip": null,
            "_model_module": "@jupyter-widgets/controls",
            "layout": "IPY_MODEL_c51356551d4e448cbf0b0ad466f06c0d"
          }
        },
        "cfc32cd31487413491f94744a6a9df78": {
          "model_module": "@jupyter-widgets/controls",
          "model_name": "HTMLModel",
          "state": {
            "_view_name": "HTMLView",
            "style": "IPY_MODEL_831a035d1df34032b41b4413e3eddaf8",
            "_dom_classes": [],
            "description": "",
            "_model_name": "HTMLModel",
            "placeholder": "​",
            "_view_module": "@jupyter-widgets/controls",
            "_model_module_version": "1.5.0",
            "value": " 1654784/? [00:01&lt;00:00, 1047236.25it/s]",
            "_view_count": null,
            "_view_module_version": "1.5.0",
            "description_tooltip": null,
            "_model_module": "@jupyter-widgets/controls",
            "layout": "IPY_MODEL_d4cacf0a446b4e0b97054c2796fa1923"
          }
        },
        "203f791c713941ae97c35bb27b58ed06": {
          "model_module": "@jupyter-widgets/controls",
          "model_name": "ProgressStyleModel",
          "state": {
            "_view_name": "StyleView",
            "_model_name": "ProgressStyleModel",
            "description_width": "initial",
            "_view_module": "@jupyter-widgets/base",
            "_model_module_version": "1.5.0",
            "_view_count": null,
            "_view_module_version": "1.2.0",
            "bar_color": null,
            "_model_module": "@jupyter-widgets/controls"
          }
        },
        "c51356551d4e448cbf0b0ad466f06c0d": {
          "model_module": "@jupyter-widgets/base",
          "model_name": "LayoutModel",
          "state": {
            "_view_name": "LayoutView",
            "grid_template_rows": null,
            "right": null,
            "justify_content": null,
            "_view_module": "@jupyter-widgets/base",
            "overflow": null,
            "_model_module_version": "1.2.0",
            "_view_count": null,
            "flex_flow": null,
            "width": null,
            "min_width": null,
            "border": null,
            "align_items": null,
            "bottom": null,
            "_model_module": "@jupyter-widgets/base",
            "top": null,
            "grid_column": null,
            "overflow_y": null,
            "overflow_x": null,
            "grid_auto_flow": null,
            "grid_area": null,
            "grid_template_columns": null,
            "flex": null,
            "_model_name": "LayoutModel",
            "justify_items": null,
            "grid_row": null,
            "max_height": null,
            "align_content": null,
            "visibility": null,
            "align_self": null,
            "height": null,
            "min_height": null,
            "padding": null,
            "grid_auto_rows": null,
            "grid_gap": null,
            "max_width": null,
            "order": null,
            "_view_module_version": "1.2.0",
            "grid_template_areas": null,
            "object_position": null,
            "object_fit": null,
            "grid_auto_columns": null,
            "margin": null,
            "display": null,
            "left": null
          }
        },
        "831a035d1df34032b41b4413e3eddaf8": {
          "model_module": "@jupyter-widgets/controls",
          "model_name": "DescriptionStyleModel",
          "state": {
            "_view_name": "StyleView",
            "_model_name": "DescriptionStyleModel",
            "description_width": "",
            "_view_module": "@jupyter-widgets/base",
            "_model_module_version": "1.5.0",
            "_view_count": null,
            "_view_module_version": "1.2.0",
            "_model_module": "@jupyter-widgets/controls"
          }
        },
        "d4cacf0a446b4e0b97054c2796fa1923": {
          "model_module": "@jupyter-widgets/base",
          "model_name": "LayoutModel",
          "state": {
            "_view_name": "LayoutView",
            "grid_template_rows": null,
            "right": null,
            "justify_content": null,
            "_view_module": "@jupyter-widgets/base",
            "overflow": null,
            "_model_module_version": "1.2.0",
            "_view_count": null,
            "flex_flow": null,
            "width": null,
            "min_width": null,
            "border": null,
            "align_items": null,
            "bottom": null,
            "_model_module": "@jupyter-widgets/base",
            "top": null,
            "grid_column": null,
            "overflow_y": null,
            "overflow_x": null,
            "grid_auto_flow": null,
            "grid_area": null,
            "grid_template_columns": null,
            "flex": null,
            "_model_name": "LayoutModel",
            "justify_items": null,
            "grid_row": null,
            "max_height": null,
            "align_content": null,
            "visibility": null,
            "align_self": null,
            "height": null,
            "min_height": null,
            "padding": null,
            "grid_auto_rows": null,
            "grid_gap": null,
            "max_width": null,
            "order": null,
            "_view_module_version": "1.2.0",
            "grid_template_areas": null,
            "object_position": null,
            "object_fit": null,
            "grid_auto_columns": null,
            "margin": null,
            "display": null,
            "left": null
          }
        },
        "0a67bd0eb0eb41fbbd975989e0d90463": {
          "model_module": "@jupyter-widgets/controls",
          "model_name": "HBoxModel",
          "state": {
            "_view_name": "HBoxView",
            "_dom_classes": [],
            "_model_name": "HBoxModel",
            "_view_module": "@jupyter-widgets/controls",
            "_model_module_version": "1.5.0",
            "_view_count": null,
            "_view_module_version": "1.5.0",
            "box_style": "",
            "layout": "IPY_MODEL_0c705acb510f45669c04565f012f6863",
            "_model_module": "@jupyter-widgets/controls",
            "children": [
              "IPY_MODEL_afaaf90f973f4d409bc3d3843ee62c46",
              "IPY_MODEL_d0fe2346eb774cc39b02ce13cbc42a79"
            ]
          }
        },
        "0c705acb510f45669c04565f012f6863": {
          "model_module": "@jupyter-widgets/base",
          "model_name": "LayoutModel",
          "state": {
            "_view_name": "LayoutView",
            "grid_template_rows": null,
            "right": null,
            "justify_content": null,
            "_view_module": "@jupyter-widgets/base",
            "overflow": null,
            "_model_module_version": "1.2.0",
            "_view_count": null,
            "flex_flow": null,
            "width": null,
            "min_width": null,
            "border": null,
            "align_items": null,
            "bottom": null,
            "_model_module": "@jupyter-widgets/base",
            "top": null,
            "grid_column": null,
            "overflow_y": null,
            "overflow_x": null,
            "grid_auto_flow": null,
            "grid_area": null,
            "grid_template_columns": null,
            "flex": null,
            "_model_name": "LayoutModel",
            "justify_items": null,
            "grid_row": null,
            "max_height": null,
            "align_content": null,
            "visibility": null,
            "align_self": null,
            "height": null,
            "min_height": null,
            "padding": null,
            "grid_auto_rows": null,
            "grid_gap": null,
            "max_width": null,
            "order": null,
            "_view_module_version": "1.2.0",
            "grid_template_areas": null,
            "object_position": null,
            "object_fit": null,
            "grid_auto_columns": null,
            "margin": null,
            "display": null,
            "left": null
          }
        },
        "afaaf90f973f4d409bc3d3843ee62c46": {
          "model_module": "@jupyter-widgets/controls",
          "model_name": "FloatProgressModel",
          "state": {
            "_view_name": "ProgressView",
            "style": "IPY_MODEL_9baa1e9325854a12902e8c3210f341e5",
            "_dom_classes": [],
            "description": "",
            "_model_name": "FloatProgressModel",
            "bar_style": "success",
            "max": 1,
            "_view_module": "@jupyter-widgets/controls",
            "_model_module_version": "1.5.0",
            "value": 1,
            "_view_count": null,
            "_view_module_version": "1.5.0",
            "orientation": "horizontal",
            "min": 0,
            "description_tooltip": null,
            "_model_module": "@jupyter-widgets/controls",
            "layout": "IPY_MODEL_99677d1ddf1c4bcdbf2eb9197aa2507b"
          }
        },
        "d0fe2346eb774cc39b02ce13cbc42a79": {
          "model_module": "@jupyter-widgets/controls",
          "model_name": "HTMLModel",
          "state": {
            "_view_name": "HTMLView",
            "style": "IPY_MODEL_db5a7873b09b404393ebd5a11495d093",
            "_dom_classes": [],
            "description": "",
            "_model_name": "HTMLModel",
            "placeholder": "​",
            "_view_module": "@jupyter-widgets/controls",
            "_model_module_version": "1.5.0",
            "value": " 8192/? [00:00&lt;00:00, 13336.94it/s]",
            "_view_count": null,
            "_view_module_version": "1.5.0",
            "description_tooltip": null,
            "_model_module": "@jupyter-widgets/controls",
            "layout": "IPY_MODEL_85d21bb7562b4b5c9fba7a199273a392"
          }
        },
        "9baa1e9325854a12902e8c3210f341e5": {
          "model_module": "@jupyter-widgets/controls",
          "model_name": "ProgressStyleModel",
          "state": {
            "_view_name": "StyleView",
            "_model_name": "ProgressStyleModel",
            "description_width": "initial",
            "_view_module": "@jupyter-widgets/base",
            "_model_module_version": "1.5.0",
            "_view_count": null,
            "_view_module_version": "1.2.0",
            "bar_color": null,
            "_model_module": "@jupyter-widgets/controls"
          }
        },
        "99677d1ddf1c4bcdbf2eb9197aa2507b": {
          "model_module": "@jupyter-widgets/base",
          "model_name": "LayoutModel",
          "state": {
            "_view_name": "LayoutView",
            "grid_template_rows": null,
            "right": null,
            "justify_content": null,
            "_view_module": "@jupyter-widgets/base",
            "overflow": null,
            "_model_module_version": "1.2.0",
            "_view_count": null,
            "flex_flow": null,
            "width": null,
            "min_width": null,
            "border": null,
            "align_items": null,
            "bottom": null,
            "_model_module": "@jupyter-widgets/base",
            "top": null,
            "grid_column": null,
            "overflow_y": null,
            "overflow_x": null,
            "grid_auto_flow": null,
            "grid_area": null,
            "grid_template_columns": null,
            "flex": null,
            "_model_name": "LayoutModel",
            "justify_items": null,
            "grid_row": null,
            "max_height": null,
            "align_content": null,
            "visibility": null,
            "align_self": null,
            "height": null,
            "min_height": null,
            "padding": null,
            "grid_auto_rows": null,
            "grid_gap": null,
            "max_width": null,
            "order": null,
            "_view_module_version": "1.2.0",
            "grid_template_areas": null,
            "object_position": null,
            "object_fit": null,
            "grid_auto_columns": null,
            "margin": null,
            "display": null,
            "left": null
          }
        },
        "db5a7873b09b404393ebd5a11495d093": {
          "model_module": "@jupyter-widgets/controls",
          "model_name": "DescriptionStyleModel",
          "state": {
            "_view_name": "StyleView",
            "_model_name": "DescriptionStyleModel",
            "description_width": "",
            "_view_module": "@jupyter-widgets/base",
            "_model_module_version": "1.5.0",
            "_view_count": null,
            "_view_module_version": "1.2.0",
            "_model_module": "@jupyter-widgets/controls"
          }
        },
        "85d21bb7562b4b5c9fba7a199273a392": {
          "model_module": "@jupyter-widgets/base",
          "model_name": "LayoutModel",
          "state": {
            "_view_name": "LayoutView",
            "grid_template_rows": null,
            "right": null,
            "justify_content": null,
            "_view_module": "@jupyter-widgets/base",
            "overflow": null,
            "_model_module_version": "1.2.0",
            "_view_count": null,
            "flex_flow": null,
            "width": null,
            "min_width": null,
            "border": null,
            "align_items": null,
            "bottom": null,
            "_model_module": "@jupyter-widgets/base",
            "top": null,
            "grid_column": null,
            "overflow_y": null,
            "overflow_x": null,
            "grid_auto_flow": null,
            "grid_area": null,
            "grid_template_columns": null,
            "flex": null,
            "_model_name": "LayoutModel",
            "justify_items": null,
            "grid_row": null,
            "max_height": null,
            "align_content": null,
            "visibility": null,
            "align_self": null,
            "height": null,
            "min_height": null,
            "padding": null,
            "grid_auto_rows": null,
            "grid_gap": null,
            "max_width": null,
            "order": null,
            "_view_module_version": "1.2.0",
            "grid_template_areas": null,
            "object_position": null,
            "object_fit": null,
            "grid_auto_columns": null,
            "margin": null,
            "display": null,
            "left": null
          }
        }
      }
    }
  },
  "cells": [
    {
      "cell_type": "markdown",
      "metadata": {
        "id": "gCRSg14Nzg8r"
      },
      "source": [
        "# Variational Auto-Encoder for MNIST Dataset"
      ]
    },
    {
      "cell_type": "markdown",
      "metadata": {
        "id": "MrI2jHDX3le2"
      },
      "source": [
        "Part (i)"
      ]
    },
    {
      "cell_type": "code",
      "metadata": {
        "colab": {
          "base_uri": "https://localhost:8080/",
          "height": 437,
          "referenced_widgets": [
            "881c54957465447bbec6dc1338a05315",
            "1f2f0bd5f05b4020831e566080cdd70b",
            "d0a70b5c1a9f4ce68adf5d608f94f5af",
            "2b9f14a893b540a39b9404d905eda57e",
            "828cbe1c97ad457b9b17b1a0ba969a5e",
            "92f8e3e703cb4ab093b5a451e6964608",
            "fb421ff73b3447278d9334c8fcb8bed6",
            "303a94fcaee74f69b8de6efad4f3a3ea",
            "73f96858114c4241b374ee4b2aaa0728",
            "74dd50ba72de4cc6a3148ab54b1dc411",
            "c04c68cc88384b6cb9268b53e4dc167d",
            "0643d977030046dab133f6153de112c0",
            "7365d745d47e4b64ac2e21da0b6711cf",
            "5155a317d2944e7fa3fd72710eba4b99",
            "30926ae5a828486bbbffbfdb176ae037",
            "b3503945d7c04612a622f9294791ea97",
            "c73766ebc7c34599963ecc582ab39e41",
            "bab55617f582472191b3e3eb3907658b",
            "a67c5c8c944049d5b5f4fb36544d3bdd",
            "cfc32cd31487413491f94744a6a9df78",
            "203f791c713941ae97c35bb27b58ed06",
            "c51356551d4e448cbf0b0ad466f06c0d",
            "831a035d1df34032b41b4413e3eddaf8",
            "d4cacf0a446b4e0b97054c2796fa1923",
            "0a67bd0eb0eb41fbbd975989e0d90463",
            "0c705acb510f45669c04565f012f6863",
            "afaaf90f973f4d409bc3d3843ee62c46",
            "d0fe2346eb774cc39b02ce13cbc42a79",
            "9baa1e9325854a12902e8c3210f341e5",
            "99677d1ddf1c4bcdbf2eb9197aa2507b",
            "db5a7873b09b404393ebd5a11495d093",
            "85d21bb7562b4b5c9fba7a199273a392"
          ]
        },
        "id": "SjvRWzfxzeth",
        "outputId": "a8505094-e34b-4403-93f8-965efe5a5cb8"
      },
      "source": [
        "import torchvision as thv\n",
        "train = thv.datasets.MNIST('./', download=True, train=True) \n",
        "val = thv.datasets.MNIST('./', download=True, train=False)\n",
        "print(train.data.shape, len(train.targets))"
      ],
      "execution_count": null,
      "outputs": [
        {
          "output_type": "stream",
          "text": [
            "Downloading http://yann.lecun.com/exdb/mnist/train-images-idx3-ubyte.gz to ./MNIST/raw/train-images-idx3-ubyte.gz\n"
          ],
          "name": "stdout"
        },
        {
          "output_type": "display_data",
          "data": {
            "application/vnd.jupyter.widget-view+json": {
              "model_id": "881c54957465447bbec6dc1338a05315",
              "version_minor": 0,
              "version_major": 2
            },
            "text/plain": [
              "HBox(children=(FloatProgress(value=1.0, bar_style='info', max=1.0), HTML(value='')))"
            ]
          },
          "metadata": {
            "tags": []
          }
        },
        {
          "output_type": "stream",
          "text": [
            "Extracting ./MNIST/raw/train-images-idx3-ubyte.gz to ./MNIST/raw\n",
            "Downloading http://yann.lecun.com/exdb/mnist/train-labels-idx1-ubyte.gz to ./MNIST/raw/train-labels-idx1-ubyte.gz\n"
          ],
          "name": "stdout"
        },
        {
          "output_type": "display_data",
          "data": {
            "application/vnd.jupyter.widget-view+json": {
              "model_id": "73f96858114c4241b374ee4b2aaa0728",
              "version_minor": 0,
              "version_major": 2
            },
            "text/plain": [
              "HBox(children=(FloatProgress(value=1.0, bar_style='info', max=1.0), HTML(value='')))"
            ]
          },
          "metadata": {
            "tags": []
          }
        },
        {
          "output_type": "stream",
          "text": [
            "Extracting ./MNIST/raw/train-labels-idx1-ubyte.gz to ./MNIST/raw\n",
            "Downloading http://yann.lecun.com/exdb/mnist/t10k-images-idx3-ubyte.gz to ./MNIST/raw/t10k-images-idx3-ubyte.gz\n"
          ],
          "name": "stdout"
        },
        {
          "output_type": "display_data",
          "data": {
            "application/vnd.jupyter.widget-view+json": {
              "model_id": "c73766ebc7c34599963ecc582ab39e41",
              "version_minor": 0,
              "version_major": 2
            },
            "text/plain": [
              "HBox(children=(FloatProgress(value=1.0, bar_style='info', max=1.0), HTML(value='')))"
            ]
          },
          "metadata": {
            "tags": []
          }
        },
        {
          "output_type": "stream",
          "text": [
            "Extracting ./MNIST/raw/t10k-images-idx3-ubyte.gz to ./MNIST/raw\n",
            "Downloading http://yann.lecun.com/exdb/mnist/t10k-labels-idx1-ubyte.gz to ./MNIST/raw/t10k-labels-idx1-ubyte.gz\n",
            "\n",
            "\n"
          ],
          "name": "stdout"
        },
        {
          "output_type": "display_data",
          "data": {
            "application/vnd.jupyter.widget-view+json": {
              "model_id": "0a67bd0eb0eb41fbbd975989e0d90463",
              "version_minor": 0,
              "version_major": 2
            },
            "text/plain": [
              "HBox(children=(FloatProgress(value=1.0, bar_style='info', max=1.0), HTML(value='')))"
            ]
          },
          "metadata": {
            "tags": []
          }
        },
        {
          "output_type": "stream",
          "text": [
            "Extracting ./MNIST/raw/t10k-labels-idx1-ubyte.gz to ./MNIST/raw\n",
            "Processing...\n",
            "Done!\n",
            "torch.Size([60000, 28, 28]) 60000\n",
            "\n"
          ],
          "name": "stdout"
        },
        {
          "output_type": "stream",
          "text": [
            "/usr/local/lib/python3.6/dist-packages/torchvision/datasets/mnist.py:480: UserWarning: The given NumPy array is not writeable, and PyTorch does not support non-writeable tensors. This means you can write to the underlying (supposedly non-writeable) NumPy array using the tensor. You may want to copy the array to protect its data or make it writeable before converting it to a tensor. This type of warning will be suppressed for the rest of this program. (Triggered internally at  /pytorch/torch/csrc/utils/tensor_numpy.cpp:141.)\n",
            "  return torch.from_numpy(parsed.astype(m[2], copy=False)).view(*s)\n"
          ],
          "name": "stderr"
        }
      ]
    },
    {
      "cell_type": "markdown",
      "metadata": {
        "id": "t9EB9_tb4mOI"
      },
      "source": [
        "Create a training set of 10,000 images, with approximately equal numbers of samples per class"
      ]
    },
    {
      "cell_type": "code",
      "metadata": {
        "id": "PDVrhRSh4q9P",
        "colab": {
          "base_uri": "https://localhost:8080/"
        },
        "outputId": "4102f11b-2ff8-4f71-f6f2-17bb3a76cc0a"
      },
      "source": [
        "from sklearn.model_selection import train_test_split\n",
        "import numpy as np\n",
        "targets = train.targets\n",
        "train_idx, valid_idx= train_test_split(np.arange(len(targets)), train_size=10000, random_state=42, shuffle=True, stratify=targets)"
      ],
      "execution_count": null,
      "outputs": [
        {
          "output_type": "stream",
          "text": [
            "\n"
          ],
          "name": "stdout"
        }
      ]
    },
    {
      "cell_type": "code",
      "metadata": {
        "id": "IrOdEUkz4vpz"
      },
      "source": [
        "x_train, y_train = train.data[train_idx], train.targets[train_idx]"
      ],
      "execution_count": null,
      "outputs": []
    },
    {
      "cell_type": "code",
      "metadata": {
        "colab": {
          "base_uri": "https://localhost:8080/"
        },
        "id": "UnrsgmLz4361",
        "outputId": "0e519ed8-b22d-47a8-869e-6585ab696efe"
      },
      "source": [
        "from collections import Counter\n",
        "Counter(y_train.numpy())"
      ],
      "execution_count": null,
      "outputs": [
        {
          "output_type": "execute_result",
          "data": {
            "text/plain": [
              "Counter({0: 987,\n",
              "         1: 1124,\n",
              "         2: 993,\n",
              "         3: 1022,\n",
              "         4: 974,\n",
              "         5: 903,\n",
              "         6: 986,\n",
              "         7: 1044,\n",
              "         8: 975,\n",
              "         9: 992})"
            ]
          },
          "metadata": {
            "tags": []
          },
          "execution_count": 4
        }
      ]
    },
    {
      "cell_type": "markdown",
      "metadata": {
        "id": "tp7e5NwR46yJ"
      },
      "source": [
        "Subsample images to 14x14"
      ]
    },
    {
      "cell_type": "code",
      "metadata": {
        "id": "BM0_eFsY6XRy"
      },
      "source": [
        "x_train, y_train = x_train.numpy(), y_train.numpy()"
      ],
      "execution_count": null,
      "outputs": []
    },
    {
      "cell_type": "code",
      "metadata": {
        "id": "qjfxL4I_45fe"
      },
      "source": [
        "#Downsample image size\n",
        "import cv2\n",
        "downsampled = []\n",
        "for im in x_train:\n",
        "  orig = im.reshape((28,28))\n",
        "  down = cv2.resize(orig, (14,14)).flatten() #reshape to be one row\n",
        "  downsampled.extend([down])"
      ],
      "execution_count": null,
      "outputs": []
    },
    {
      "cell_type": "code",
      "metadata": {
        "id": "kAC5MnJ35L4s"
      },
      "source": [
        "#Now these are the new images we will be working with\n",
        "x_train = downsampled"
      ],
      "execution_count": null,
      "outputs": []
    },
    {
      "cell_type": "markdown",
      "metadata": {
        "id": "qqMknjOP5TYc"
      },
      "source": [
        "Binarize the images so that if a pixel value is greater than 128 set it to 1, otherwise set the pixel value to 0"
      ]
    },
    {
      "cell_type": "code",
      "metadata": {
        "id": "H_0CfUwD5QhR"
      },
      "source": [
        "for image in x_train:\n",
        "  one_thresh = 128\n",
        "  one_threshold_indices = image > one_thresh\n",
        "  zero_threshold_indices = image <= one_thresh\n",
        "  image[one_threshold_indices] = 1\n",
        "  image[zero_threshold_indices] = 0\n",
        "x_train = np.array(x_train)"
      ],
      "execution_count": null,
      "outputs": []
    },
    {
      "cell_type": "code",
      "metadata": {
        "colab": {
          "base_uri": "https://localhost:8080/",
          "height": 265
        },
        "id": "EBXQ8UDy6rh1",
        "outputId": "d5cb9f4e-0e84-4b4b-e9e5-72f3455b5402"
      },
      "source": [
        "import matplotlib.pyplot as plt\n",
        "plt.imshow(x_train[0,:].reshape(14,14))\n",
        "plt.show()"
      ],
      "execution_count": null,
      "outputs": [
        {
          "output_type": "display_data",
          "data": {
            "image/png": "[encoded data removed]",
            "text/plain": [
              "<Figure size 432x288 with 1 Axes>"
            ]
          },
          "metadata": {
            "tags": [],
            "needs_background": "light"
          }
        }
      ]
    },
    {
      "cell_type": "markdown",
      "metadata": {
        "id": "BZS4fFV5-SPz"
      },
      "source": [
        "Part (ii)"
      ]
    },
    {
      "cell_type": "code",
      "metadata": {
        "id": "UJuuFQTi-G69"
      },
      "source": [
        "import torch\n",
        "import torch.nn as nn"
      ],
      "execution_count": null,
      "outputs": []
    },
    {
      "cell_type": "code",
      "metadata": {
        "id": "DTCKzzYO-25Z"
      },
      "source": [
        "class Encoder(nn.Module):\n",
        "    def __init__(self):\n",
        "        super(Encoder, self).__init__()\n",
        "        self.fc1 = nn.Linear(14*14, 128)\n",
        "        self.fc2 = nn.Linear(128,16)\n",
        "        \n",
        "    def forward(self, x):\n",
        "        x1 = torch.tanh(self.fc1(x))\n",
        "        x2 = self.fc2(x1)\n",
        "        return x2"
      ],
      "execution_count": null,
      "outputs": []
    },
    {
      "cell_type": "markdown",
      "metadata": {
        "id": "OkpbpBJUVE_L"
      },
      "source": [
        "If encoder outputs vector of 16, with first 8 entires as the mean and last 8 entires as the standard deviation"
      ]
    },
    {
      "cell_type": "markdown",
      "metadata": {
        "id": "RcZ_gGqOS-Ii"
      },
      "source": [
        "input into decoder is a sampling from the multivariate distribution given by the output of the encoder"
      ]
    },
    {
      "cell_type": "code",
      "metadata": {
        "id": "sCWAYWwhA-Vo"
      },
      "source": [
        "class Decoder(nn.Module):\n",
        "    def __init__(self):\n",
        "        super(Decoder, self).__init__()\n",
        "        self.fc1 = nn.Linear(8, 128)\n",
        "        self.fc2 = nn.Linear(128,196)\n",
        "        \n",
        "    def forward(self, x):\n",
        "        x1 = torch.tanh(self.fc1(x))\n",
        "        x2 = torch.sigmoid(self.fc2(x1))\n",
        "        return x2"
      ],
      "execution_count": null,
      "outputs": []
    },
    {
      "cell_type": "code",
      "metadata": {
        "id": "B_qYgD5obsXQ"
      },
      "source": [
        "from torch.distributions import MultivariateNormal\n",
        "class EncoderDecoder(nn.Module):\n",
        "    def __init__(self, encoder, decoder):\n",
        "        super(EncoderDecoder, self).__init__()\n",
        "        self.encoder = encoder\n",
        "        self.decoder = decoder\n",
        "        \n",
        "    def forward(self, x):\n",
        "        #pass through encoder\n",
        "        enc_output = self.encoder(x)\n",
        "\n",
        "        #sample from multivariate normal distribution using encoder output\n",
        "        #We do this using a parametrization trick whereby we sample from the normal distribution and then multiple the output by the mean and add the variance\n",
        "        z = MultivariateNormal(torch.zeros(8), torch.eye(8))\n",
        "        #variance can't be negative, so use torch.exp() and treat output as log(simga)\n",
        "        dec_input = enc_output[:,0:8] + z.sample()*torch.exp(enc_output[:,8:])\n",
        "        #pass through decoder\n",
        "        dec_output = self.decoder(dec_input)\n",
        "        return enc_output, dec_output\n",
        "\n",
        "    def decoder_forward(self, z):\n",
        "      #use to generate images directly\n",
        "      return self.decoder(z)"
      ],
      "execution_count": null,
      "outputs": []
    },
    {
      "cell_type": "markdown",
      "metadata": {
        "id": "XoMh7ryzbs45"
      },
      "source": [
        "Write loss functions"
      ]
    },
    {
      "cell_type": "markdown",
      "metadata": {
        "id": "DVX4NvSN9pte"
      },
      "source": [
        "![image.png](data:image/png;base64,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)"
      ]
    },
    {
      "cell_type": "code",
      "metadata": {
        "id": "Rsm2v_w49ahv"
      },
      "source": [
        "def KL_divergence(encoder_output, batch_size):\n",
        "  value = torch.zeros(batch_size)\n",
        "  mu = encoder_output[:,:8]\n",
        "  sigma = torch.exp(encoder_output[:,8:])\n",
        "  for i in range(8):\n",
        "    value += (1 + torch.log(sigma[:,i]**2) - mu[:,i]**2 - sigma[:,i]**2)\n",
        "  return (-1/2)*value"
      ],
      "execution_count": null,
      "outputs": []
    },
    {
      "cell_type": "markdown",
      "metadata": {
        "id": "B2js0i9GUzrT"
      },
      "source": [
        "![image.png](data:image/png;base64,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)"
      ]
    },
    {
      "cell_type": "code",
      "metadata": {
        "id": "mReY8dazPojp"
      },
      "source": [
        "def log_p_loss(x, y):\n",
        "  return torch.sum(x*torch.log(y) + (1-x)*torch.log(1-y), dim=1)"
      ],
      "execution_count": null,
      "outputs": []
    },
    {
      "cell_type": "markdown",
      "metadata": {
        "id": "VMBaPN4APMu0"
      },
      "source": [
        "![image.png](data:image/png;base64,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)"
      ]
    },
    {
      "cell_type": "markdown",
      "metadata": {
        "id": "qxA7XBgJPTcV"
      },
      "source": [
        "To take the expectation, average over multiple p_v values (expectation is over z so do it for multiple z samples)"
      ]
    },
    {
      "cell_type": "markdown",
      "metadata": {
        "id": "yJ_x6y5ZRHOC"
      },
      "source": [
        "Convert images and labels back to torch"
      ]
    },
    {
      "cell_type": "code",
      "metadata": {
        "id": "U6PrV0JfRJ-7"
      },
      "source": [
        "x_train, y_train = torch.from_numpy(x_train), torch.from_numpy(y_train)"
      ],
      "execution_count": null,
      "outputs": []
    },
    {
      "cell_type": "code",
      "metadata": {
        "id": "p3_KkajnCmZE"
      },
      "source": [
        "#use as needed\n",
        "#x_train, y_train = torch.tensor(x_train), torch.tensor(y_train)"
      ],
      "execution_count": null,
      "outputs": []
    },
    {
      "cell_type": "markdown",
      "metadata": {
        "id": "pHW3Z154tc1A"
      },
      "source": [
        "Create dataloader objects for batching"
      ]
    },
    {
      "cell_type": "code",
      "metadata": {
        "id": "IwdKn6NEtaZa"
      },
      "source": [
        "batch_size = 16\n",
        "trainset = torch.utils.data.TensorDataset(x_train, y_train) # create your datset\n",
        "\n",
        "trainloader = torch.utils.data.DataLoader(trainset, batch_size=batch_size,\n",
        "                                          shuffle=True)"
      ],
      "execution_count": null,
      "outputs": []
    },
    {
      "cell_type": "markdown",
      "metadata": {
        "id": "cVEFYF8qvXly"
      },
      "source": [
        "Create training loop"
      ]
    },
    {
      "cell_type": "code",
      "metadata": {
        "id": "8uvGl6QFSujU"
      },
      "source": [
        "def train(train_loader, epochs, model, optimizer, batch_size):\n",
        "  log_loss_list = []\n",
        "  KL_list = []\n",
        "\n",
        "  for e in range(epochs):\n",
        "    \n",
        "    for i, (images, labels) in enumerate(trainloader):\n",
        "      model.train()\n",
        "      optimizer.zero_grad()\n",
        "      x = images.float()\n",
        "      \n",
        "      #pass through model (Encoder then Decoder)\n",
        "      y_pred_list = []\n",
        "      for j in range(2): #we need to sample from multivariate distribution (z) twice to compute the expectation over the log loss term\n",
        "        enc_output, y_pred = model(x) #where y_pred is output from the decoder\n",
        "        y_pred_list.append(y_pred)\n",
        "\n",
        "      #calculate loss\n",
        "      KL = torch.mean(KL_divergence(enc_output, batch_size))\n",
        "      log_loss = 0\n",
        "      for k in range(2): #loss term has expectation around log_loss, so we will use two samples and take the average to approximate this term\n",
        "        log_loss += torch.mean(log_p_loss(x, y_pred_list[k]))\n",
        "      avg_log_loss = log_loss / 2\n",
        "      loss = -(avg_log_loss - KL) #we want to minimize the negative of the ELBO loss\n",
        "      loss = torch.mean(loss)\n",
        "      log_loss_list.append(avg_log_loss)\n",
        "      KL_list.append(KL)\n",
        "      if (i+1) % 200 == 0:\n",
        "        print(\"Epoch: {}\".format(e+1), \"Loss: {}\".format(loss))\n",
        "\n",
        "      #propagate loss backwards\n",
        "      loss.backward()\n",
        "      optimizer.step()\n",
        "  \n",
        "  return log_loss_list, KL_list"
      ],
      "execution_count": null,
      "outputs": []
    },
    {
      "cell_type": "markdown",
      "metadata": {
        "id": "kA_WydN6ZDUC"
      },
      "source": [
        "Train the network"
      ]
    },
    {
      "cell_type": "code",
      "metadata": {
        "colab": {
          "base_uri": "https://localhost:8080/"
        },
        "id": "zmbj_PB51gVl",
        "outputId": "0b87e608-0ce3-46fe-c436-a28dc69c28f9"
      },
      "source": [
        "import torch.optim as optim\n",
        "\n",
        "model = EncoderDecoder(Encoder(), Decoder())\n",
        "epochs = 10\n",
        "optimizer = optim.Adam(model.parameters(), lr=0.001)\n",
        "\n",
        "log_loss_list, KL_list = train(x_train, epochs, model, optimizer, batch_size)"
      ],
      "execution_count": null,
      "outputs": [
        {
          "output_type": "stream",
          "text": [
            "Epoch: 1 Loss: 55.26042556762695\n",
            "Epoch: 1 Loss: 48.620933532714844\n",
            "Epoch: 1 Loss: 46.531402587890625\n",
            "Epoch: 2 Loss: 43.42424011230469\n",
            "Epoch: 2 Loss: 43.76069259643555\n",
            "Epoch: 2 Loss: 41.02793502807617\n",
            "Epoch: 3 Loss: 39.37825393676758\n",
            "Epoch: 3 Loss: 40.289794921875\n",
            "Epoch: 3 Loss: 42.21944808959961\n",
            "Epoch: 4 Loss: 36.87077713012695\n",
            "Epoch: 4 Loss: 36.995697021484375\n",
            "Epoch: 4 Loss: 37.26888656616211\n",
            "Epoch: 5 Loss: 40.485755920410156\n",
            "Epoch: 5 Loss: 40.666542053222656\n",
            "Epoch: 5 Loss: 33.71499252319336\n",
            "Epoch: 6 Loss: 39.20759582519531\n",
            "Epoch: 6 Loss: 36.96833419799805\n",
            "Epoch: 6 Loss: 37.834163665771484\n",
            "Epoch: 7 Loss: 32.560306549072266\n",
            "Epoch: 7 Loss: 41.14329528808594\n",
            "Epoch: 7 Loss: 36.840694427490234\n",
            "Epoch: 8 Loss: 29.0850830078125\n",
            "Epoch: 8 Loss: 36.011474609375\n",
            "Epoch: 8 Loss: 35.416351318359375\n",
            "Epoch: 9 Loss: 39.00190734863281\n",
            "Epoch: 9 Loss: 42.680686950683594\n",
            "Epoch: 9 Loss: 39.5067253112793\n",
            "Epoch: 10 Loss: 38.559993743896484\n",
            "Epoch: 10 Loss: 32.649505615234375\n",
            "Epoch: 10 Loss: 31.441448211669922\n"
          ],
          "name": "stdout"
        }
      ]
    },
    {
      "cell_type": "code",
      "metadata": {
        "colab": {
          "base_uri": "https://localhost:8080/",
          "height": 295
        },
        "id": "AiCYxpnu7iYH",
        "outputId": "7788d8a4-20c4-462b-edaf-415358e8c40b"
      },
      "source": [
        "import matplotlib.pyplot as plt\n",
        "plt.plot(KL_list)\n",
        "plt.xlabel('Number of Weight Updates')\n",
        "plt.ylabel('KL Divergence')\n",
        "plt.title('KL Divergence vs. Weight Updates')\n",
        "plt.show()"
      ],
      "execution_count": null,
      "outputs": [
        {
          "output_type": "display_data",
          "data": {
            "image/png": "[encoded data removed]",
            "text/plain": [
              "<Figure size 432x288 with 1 Axes>"
            ]
          },
          "metadata": {
            "tags": [],
            "needs_background": "light"
          }
        }
      ]
    },
    {
      "cell_type": "code",
      "metadata": {
        "colab": {
          "base_uri": "https://localhost:8080/",
          "height": 295
        },
        "id": "7V1gau0f7nyu",
        "outputId": "99b0afb2-6729-4051-fe96-74e5427c7cde"
      },
      "source": [
        "plt.plot(log_loss_list)\n",
        "plt.xlabel('Number of Weight Updates')\n",
        "plt.ylabel('Reconstruction Log Likelihood')\n",
        "plt.title('Reconstruction Log Likelihood vs. Weight Updates')\n",
        "plt.show()"
      ],
      "execution_count": null,
      "outputs": [
        {
          "output_type": "display_data",
          "data": {
            "image/png": "[encoded data removed]",
            "text/plain": [
              "<Figure size 432x288 with 1 Axes>"
            ]
          },
          "metadata": {
            "tags": [],
            "needs_background": "light"
          }
        }
      ]
    },
    {
      "cell_type": "markdown",
      "metadata": {
        "id": "sut76_RWJZMM"
      },
      "source": [
        "Pick 8 MNIST images and reconstruct their images in one pass of the model by using a mini-batch size of 8"
      ]
    },
    {
      "cell_type": "code",
      "metadata": {
        "id": "wT3Gkvj7I8ym"
      },
      "source": [
        "model.eval()\n",
        "_, y_pred = model(x_train[:8,:].float())\n",
        "new_x = y_pred.detach().numpy()"
      ],
      "execution_count": null,
      "outputs": []
    },
    {
      "cell_type": "code",
      "metadata": {
        "id": "foDnGRauUhUw"
      },
      "source": [
        "new_x, x_train = np.array(new_x), x_train.numpy()"
      ],
      "execution_count": null,
      "outputs": []
    },
    {
      "cell_type": "code",
      "metadata": {
        "colab": {
          "base_uri": "https://localhost:8080/",
          "height": 1000
        },
        "id": "Z6JECKCK7uhL",
        "outputId": "b7adef14-890d-410e-88e4-2ba06f080621"
      },
      "source": [
        "fig = plt.figure(figsize=(5,25))\n",
        "j=0\n",
        "k=0\n",
        "\n",
        "for i in range(16):\n",
        "  plt.subplot(8, 2, i+1)\n",
        "  #alternate plotting index to get images side by side\n",
        "  if (i+1)%2==0:\n",
        "    plt.title('Reconstructed Image')    \n",
        "    plt.imshow(new_x[j].reshape(14,14))\n",
        "    j+=1\n",
        "  else:\n",
        "    plt.title('Original Image')\n",
        "    plt.imshow(x_train[k].reshape(14,14))\n",
        "    k+=1"
      ],
      "execution_count": null,
      "outputs": [
        {
          "output_type": "display_data",
          "data": {
            "image/png": "[encoded data removed]",
            "text/plain": [
              "<Figure size 360x1800 with 16 Axes>"
            ]
          },
          "metadata": {
            "tags": [],
            "needs_background": "light"
          }
        }
      ]
    },
    {
      "cell_type": "markdown",
      "metadata": {
        "id": "U-V5t7uWWFLo"
      },
      "source": [
        "Sample z directly and generate an image by passing z through the decoder"
      ]
    },
    {
      "cell_type": "code",
      "metadata": {
        "colab": {
          "base_uri": "https://localhost:8080/",
          "height": 1000
        },
        "id": "Nv8H5_u0Buj0",
        "outputId": "62dae265-721e-40bb-ed2e-b54cbec11424"
      },
      "source": [
        "for i in range(6):\n",
        "  z = MultivariateNormal(torch.zeros(8), torch.eye(8))\n",
        "  generated_image = model.decoder_forward(z.sample())\n",
        "  plt.imshow(generated_image.detach().numpy().reshape(14,14))\n",
        "  plt.show()"
      ],
      "execution_count": null,
      "outputs": [
        {
          "output_type": "display_data",
          "data": {
            "image/png": "[encoded data removed]",
            "text/plain": [
              "<Figure size 432x288 with 1 Axes>"
            ]
          },
          "metadata": {
            "tags": [],
            "needs_background": "light"
          }
        },
        {
          "output_type": "display_data",
          "data": {
            "image/png": "[encoded data removed]",
            "text/plain": [
              "<Figure size 432x288 with 1 Axes>"
            ]
          },
          "metadata": {
            "tags": [],
            "needs_background": "light"
          }
        },
        {
          "output_type": "display_data",
          "data": {
            "image/png": "[encoded data removed]",
            "text/plain": [
              "<Figure size 432x288 with 1 Axes>"
            ]
          },
          "metadata": {
            "tags": [],
            "needs_background": "light"
          }
        },
        {
          "output_type": "display_data",
          "data": {
            "image/png": "[encoded data removed]",
            "text/plain": [
              "<Figure size 432x288 with 1 Axes>"
            ]
          },
          "metadata": {
            "tags": [],
            "needs_background": "light"
          }
        },
        {
          "output_type": "display_data",
          "data": {
            "image/png": "[encoded data removed]",
            "text/plain": [
              "<Figure size 432x288 with 1 Axes>"
            ]
          },
          "metadata": {
            "tags": [],
            "needs_background": "light"
          }
        },
        {
          "output_type": "display_data",
          "data": {
            "image/png": "[encoded data removed]",
            "text/plain": [
              "<Figure size 432x288 with 1 Axes>"
            ]
          },
          "metadata": {
            "tags": [],
            "needs_background": "light"
          }
        }
      ]
    }
  ]
}